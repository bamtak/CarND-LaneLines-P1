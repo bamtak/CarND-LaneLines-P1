{
 "cells": [
  {
   "cell_type": "markdown",
   "metadata": {},
   "source": [
    "# **Finding Lane Lines on the Road** \n",
    "\n",
    "### Reflection\n",
    "\n",
    "### 1. Pipeline Description. \n",
    "\n",
    "My pipeline consisted of 6 steps, which are as follows: \n",
    "\n",
    "Step 1 (Make a copy of the Image): Make a copy of the original image, so that I can re-use later\n",
    "\n",
    "Step 2 (Convert Image to Grayscale): Converted the original image to grayscale image for processing\n",
    "\n",
    "Step 3 (Remove Background Noise): I applied a guassian blur to the grayscale image to remove backgroung unwanted noise\n",
    "\n",
    "Step 4 (Edge Detection) : I applied a canny edge detection on the blurred image.\n",
    "\n",
    "Step 5 (Set Region of Interest): There are so many edges that are not needed in the image,sub image representing the area needed is cut out of the main image and compare with the main image to set the area as ROI and every other area is set black\n",
    "\n",
    "Step 6 (Apply Hough): Hough transform is applied to the image to perform grouping of edges.\n",
    "\n",
    "Step 7 (Draw Line on Right and Left Lane): To draw the right and left lane on the image, lines output of the hough transform is use to estimate the average slope of lines in both the left and right lane. The average slope of the lines with some reference point taking from the lines is used to compute the lane line start point and end point.\n",
    "\n",
    "\n",
    "\n"
   ]
  },
  {
   "cell_type": "markdown",
   "metadata": {},
   "source": [
    "<figure>\n",
    " <img src=\"test_images/solidYellowCurve2.jpg\" width=\"380\" alt=\"Combined Image\" />\n",
    " <figcaption>\n",
    " <p></p> \n",
    " <p style=\"text-align: center;\"> Original Image</p> \n",
    " </figcaption>\n",
    "</figure>\n",
    " <p></p> \n",
    "<figure>\n",
    " <img src=\"test_images_output/solidYellowCurve2.jpg\" width=\"380\" alt=\"Combined Image\" />\n",
    " <figcaption>\n",
    " <p></p> \n",
    " <p style=\"text-align: center;\"> Processed Image</p> \n",
    " </figcaption>\n",
    "</figure>"
   ]
  },
  {
   "cell_type": "markdown",
   "metadata": {},
   "source": [
    "\n",
    "### 2. Identify potential shortcomings with your current pipeline\n",
    "\n",
    "\n",
    "One potential shortcoming would be what would happen when there is noise edges in between the Lane line. \n"
   ]
  },
  {
   "cell_type": "code",
   "execution_count": null,
   "metadata": {
    "collapsed": true
   },
   "outputs": [],
   "source": []
  }
 ],
 "metadata": {
  "anaconda-cloud": {},
  "kernelspec": {
   "display_name": "Python [conda env:venv]",
   "language": "python",
   "name": "conda-env-venv-py"
  },
  "language_info": {
   "codemirror_mode": {
    "name": "ipython",
    "version": 3
   },
   "file_extension": ".py",
   "mimetype": "text/x-python",
   "name": "python",
   "nbconvert_exporter": "python",
   "pygments_lexer": "ipython3",
   "version": "3.5.2"
  }
 },
 "nbformat": 4,
 "nbformat_minor": 1
}
